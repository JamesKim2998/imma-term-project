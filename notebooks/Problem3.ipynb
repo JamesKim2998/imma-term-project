{
 "cells": [
  {
   "cell_type": "markdown",
   "metadata": {},
   "source": [
    "## Problem 3. Zipf의 법칙을 확인할 수 있는 python 코드를 작성하시오.\n",
    "\n",
    "### 3-1. 주어진 텍스트(bible.txt)로부터 각 단어의 등장 빈도를 count하여 Zipf의 법칙이 성립하는지 확인할 수 있는 python 코드를 작성하시오. 결과로 Zipf의 법칙을 보여줄 수 있는 결과를 출력하시오.\n",
    "\n",
    "bible.txt의 크기가 매우 크므로, 비교적 작은 테스트 케이스를 만들어서 각 함수를 테스트하는 식으로 문제를 풀었습니다."
   ]
  },
  {
   "cell_type": "markdown",
   "metadata": {},
   "source": [
    "우선 3-1에서 사용할 모듈들을 임포트합니다."
   ]
  },
  {
   "cell_type": "code",
   "execution_count": 56,
   "metadata": {},
   "outputs": [],
   "source": [
    "import nltk\n",
    "from nltk.tokenize import word_tokenize\n",
    "import matplotlib.pyplot as plt\n",
    "import numpy as np"
   ]
  },
  {
   "cell_type": "markdown",
   "metadata": {},
   "source": [
    "우선 각 단어의 등장횟수를 세는 함수 `count_words`를 정의합니다. `count_words` 함수는 `numpy` 모듈의 `unique`함수를 이용해서 unique한 단어의 개수를 셉니다."
   ]
  },
  {
   "cell_type": "code",
   "execution_count": 90,
   "metadata": {},
   "outputs": [],
   "source": [
    "def count_words(words: list) -> dict:\n",
    "    word_unique, word_count = np.unique(np.array(words), return_counts=True)\n",
    "    return dict(zip(word_unique, word_count))"
   ]
  },
  {
   "cell_type": "code",
   "execution_count": 74,
   "metadata": {},
   "outputs": [
    {
     "name": "stdout",
     "output_type": "stream",
     "text": [
      "{'123': 1, 'the': 3, 'some': 2, 'abc': 1, 'a': 2}\n"
     ]
    }
   ],
   "source": [
    "example1 = ['the', 'a', 'some', 'a', 'some', 'the', 'abc', '123', 'the']\n",
    "print(count_words(example1))"
   ]
  },
  {
   "cell_type": "markdown",
   "metadata": {},
   "source": [
    "그리고 각 단어별 등장횟수로 단어를 정렬하는 함수 `sort_words_by_frequency`를 정의합니다. 정렬을 기본 함수인 `sorted`를 이용해서 하고, 정렬된 list에서 키값만 뽑아내기 위해서 `map` 함수를 사용했습니다."
   ]
  },
  {
   "cell_type": "code",
   "execution_count": 75,
   "metadata": {},
   "outputs": [],
   "source": [
    "def sort_words_by_frequency(word_count_dict: list) -> list:\n",
    "    word_rank_pair_list = sorted(word_count_dict.items(), key=lambda x: x[1], reverse=True)\n",
    "    return list(map(lambda x: x[0], word_rank_pair_list))"
   ]
  },
  {
   "cell_type": "code",
   "execution_count": 76,
   "metadata": {},
   "outputs": [
    {
     "name": "stdout",
     "output_type": "stream",
     "text": [
      "['the', 'some', 'a', '123', 'abc']\n"
     ]
    }
   ],
   "source": [
    "example2 = {'123': 1, 'a': 2, 'abc': 1, 'some': 2, 'the': 3}\n",
    "print(sort_words_by_frequency(example2))"
   ]
  },
  {
   "cell_type": "markdown",
   "metadata": {},
   "source": [
    "`calculate_freq_and_rank_of_words` 함수는 주어진 단어들의 `freq_list`와 `rank_list`를 계산하여 리턴합니다. `word_count_dict`를 순회하면서 freq를 체크하는 식으로 구현하였습니다. 이때 만약 등장횟수가 같은 단어가 여러개 있다면 이들의 rank는 최소값을 사용합니다. 이전 단어의 등장횟수와 현재 단어의 등장횟수를 `freq_list[i - 1] == freq`로 비교하여 같으면 `rank`를 그대로 유지하는 방법으로 rank가 최소값이 되도록 했습니다."
   ]
  },
  {
   "cell_type": "code",
   "execution_count": null,
   "metadata": {},
   "outputs": [],
   "source": [
    "def calculate_freq_and_rank_of_words(word_rank_list: list, word_count_dict: dict) -> (list, list):\n",
    "    freq_list = []\n",
    "    rank_list = []\n",
    "\n",
    "    rank = 1 # 현재 rank 값.\n",
    "    for i in range(len(word_count_dict)):\n",
    "        word = word_rank_list[i]\n",
    "        freq = word_count_dict[word]\n",
    "        # freq가 같은 경우 rank도 같아야 하지만 현재 word_rank_list의 index는 1씩 증가하며 모두 다른 값을 가지므로\n",
    "        # 바로 rank = i + 1을 적용할 수 없음\n",
    "        # 만약 이전 rank의 단어가 현재 단어와 동일한 freq를 같는다면, 이전 rank를 그대로 유지한다.\n",
    "        if i > 0 and freq_list[i - 1] == freq:\n",
    "            pass\n",
    "        else:\n",
    "            rank = i + 1\n",
    "\n",
    "        freq_list.append(freq)\n",
    "        rank_list.append(rank)\n",
    "        \n",
    "    return (freq_list, rank_list)"
   ]
  },
  {
   "cell_type": "code",
   "execution_count": null,
   "metadata": {},
   "outputs": [],
   "source": [
    "example3 = ['the', 'a', 'some', 'a', 'some', 'the', 'abc', '123', 'the']\n",
    "example3_word_count_dict = count_words(example3)\n",
    "example3_word_rank_list = sort_words_by_frequency(example3_word_count_dict)\n",
    "print(example3_word_rank_list)\n",
    "print(calculate_freq_and_rank_of_words(example3_word_rank_list, example3_word_count_dict))"
   ]
  },
  {
   "cell_type": "markdown",
   "metadata": {},
   "source": [
    "Zipf's law는 input으로 word의 리스트를 받아서, `freq_list`와 `rank_list`를 리턴하는 함수이므로 아래와 같이 구성할 수 있습니다."
   ]
  },
  {
   "cell_type": "code",
   "execution_count": null,
   "metadata": {},
   "outputs": [],
   "source": [
    "def zipf_law(words: list) -> (list, list):\n",
    "    word_count_dict = count_words(words)\n",
    "    word_rank_list = sort_words_by_frequency(word_count_dict)\n",
    "    return calculate_freq_and_rank_of_words(word_rank_list, word_count_dict)"
   ]
  },
  {
   "cell_type": "code",
   "execution_count": null,
   "metadata": {},
   "outputs": [],
   "source": [
    "example4 = ['the', 'a', 'some', 'a', 'some', 'the', 'abc', '123', 'the']\n",
    "print(zipf_law(example4))"
   ]
  },
  {
   "cell_type": "markdown",
   "metadata": {},
   "source": [
    "`zipf_law`를 적용할 데이터셋을 준비합니다. `bible.txt`를 읽어서 문장부호 등을 제거한 후 `nltk` 모듈의 `word_tokenizer`를 사용해서 tokenize합니다."
   ]
  },
  {
   "cell_type": "code",
   "execution_count": null,
   "metadata": {},
   "outputs": [],
   "source": [
    "with open(\"../assets/bible.txt\", 'r') as f:\n",
    "    text = f.read()\n",
    "s_list = ['.', ',', '?', '!', ';', ':', '\\'s', '(', ')', '“', '”', '’', '=', '>',\n",
    "          '+', '<', '&', '#', '·', '&', '←']\n",
    "for c in s_list:\n",
    "    text = text.replace(c, '')\n",
    "# 소문자로 변환\n",
    "text = text.lower()\n",
    "tokenized_words = word_tokenize(text)           # 다른 tokenizer 사용 가능"
   ]
  },
  {
   "cell_type": "markdown",
   "metadata": {},
   "source": [
    "준비된 데이터셋 `tokenized_words`에 `zipf_law` 함수를 적용하여, 각 단어별 rank와 freq를 얻습니다."
   ]
  },
  {
   "cell_type": "code",
   "execution_count": 83,
   "metadata": {},
   "outputs": [],
   "source": [
    "freq_list, rank_list = zipf_law(tokenized_words)"
   ]
  },
  {
   "cell_type": "markdown",
   "metadata": {},
   "source": [
    "이것을 `numpy` 모듈의 `log` 함수를 이용하여, log scale로 변환한 후 플롯팅을 해줍니다."
   ]
  },
  {
   "cell_type": "code",
   "execution_count": 87,
   "metadata": {},
   "outputs": [
    {
     "data": {
      "image/png": "[encoded data removed]",
      "text/plain": [
       "<Figure size 432x288 with 1 Axes>"
      ]
     },
     "metadata": {
      "needs_background": "light"
     },
     "output_type": "display_data"
    }
   ],
   "source": [
    "plt.xlabel('Log(Rank)')\n",
    "plt.ylabel('Log(Frequency)')\n",
    "\n",
    "freq_list, rank_list = zipf_law(tokenized_words)\n",
    "plt.plot(np.log(rank_list), np.log(freq_list), label='Unigram')\n",
    "plt.show()"
   ]
  },
  {
   "cell_type": "markdown",
   "metadata": {},
   "source": [
    "### 3-2. NLTK에서 제공하는 Bigram, Trigram을 이용하여 Zipf의 법칙이 성립하는지 확인해보고 3-1의 결과(Unigram), Bigram, Trigram 의 결과를 차트를 통해 비교하시오. (print 결과 출력 X)"
   ]
  },
  {
   "cell_type": "code",
   "execution_count": null,
   "metadata": {},
   "outputs": [],
   "source": [
    "bigram_list = list(nltk.bigrams(tokenized_words))\n",
    "freq_list, rank_list = zipf_law(bigram_list)\n",
    "plt.plot(np.log(rank_list), np.log(freq_list), label='Bigram')\n",
    "\n",
    "trigram_list = list(nltk.trigrams(tokenized_words))\n",
    "freq_list, rank_list = zipf_law(trigram_list)\n",
    "plt.plot(np.log(rank_list), np.log(freq_list), label='Trigram')\n",
    "\n",
    "plt.legend()\n",
    "plt.show()"
   ]
  },
  {
   "cell_type": "code",
   "execution_count": null,
   "metadata": {},
   "outputs": [],
   "source": []
  }
 ],
 "metadata": {
  "kernelspec": {
   "display_name": "Python 3",
   "language": "python",
   "name": "python3"
  },
  "language_info": {
   "codemirror_mode": {
    "name": "ipython",
    "version": 3
   },
   "file_extension": ".py",
   "mimetype": "text/x-python",
   "name": "python",
   "nbconvert_exporter": "python",
   "pygments_lexer": "ipython3",
   "version": "3.5.3"
  }
 },
 "nbformat": 4,
 "nbformat_minor": 2
}
