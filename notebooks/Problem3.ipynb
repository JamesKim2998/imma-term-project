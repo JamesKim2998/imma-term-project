{
 "cells": [
  {
   "cell_type": "markdown",
   "metadata": {},
   "source": [
    "## Problem 3. Zipf의 법칙을 확인할 수 있는 python 코드를 작성하시오.\n",
    "\n",
    "### 3-1. 주어진 텍스트(bible.txt)로부터 각 단어의 등장 빈도를 count하여 Zipf의 법칙이 성립하는지 확인할 수 있는 python 코드를 작성하시오. 결과로 Zipf의 법칙을 보여줄 수 있는 결과를 출력하시오."
   ]
  },
  {
   "cell_type": "code",
   "execution_count": 4,
   "metadata": {},
   "outputs": [],
   "source": [
    "from nltk.tokenize import word_tokenize\n",
    "import matplotlib.pyplot as plt\n",
    "import numpy as np\n",
    "import os\n",
    "import nltk"
   ]
  },
  {
   "cell_type": "code",
   "execution_count": 1,
   "metadata": {},
   "outputs": [
    {
     "ename": "FileNotFoundError",
     "evalue": "[Errno 2] No such file or directory: 'bible.txt'",
     "output_type": "error",
     "traceback": [
      "\u001b[0;31m---------------------------------------------------------\u001b[0m",
      "\u001b[0;31mFileNotFoundError\u001b[0m       Traceback (most recent call last)",
      "\u001b[0;32m<ipython-input-1-e9c78ef614c8>\u001b[0m in \u001b[0;36m<module>\u001b[0;34m\u001b[0m\n\u001b[1;32m     49\u001b[0m \u001b[0;34m\u001b[0m\u001b[0m\n\u001b[1;32m     50\u001b[0m \u001b[0;32mif\u001b[0m \u001b[0m__name__\u001b[0m \u001b[0;34m==\u001b[0m \u001b[0;34m\"__main__\"\u001b[0m\u001b[0;34m:\u001b[0m\u001b[0;34m\u001b[0m\u001b[0m\n\u001b[0;32m---> 51\u001b[0;31m     \u001b[0;32mwith\u001b[0m \u001b[0mopen\u001b[0m\u001b[0;34m(\u001b[0m\u001b[0;34m\"bible.txt\"\u001b[0m\u001b[0;34m,\u001b[0m \u001b[0;34m'r'\u001b[0m\u001b[0;34m)\u001b[0m \u001b[0;32mas\u001b[0m \u001b[0mf\u001b[0m\u001b[0;34m:\u001b[0m\u001b[0;34m\u001b[0m\u001b[0m\n\u001b[0m\u001b[1;32m     52\u001b[0m         \u001b[0mtext\u001b[0m \u001b[0;34m=\u001b[0m \u001b[0mf\u001b[0m\u001b[0;34m.\u001b[0m\u001b[0mread\u001b[0m\u001b[0;34m(\u001b[0m\u001b[0;34m)\u001b[0m\u001b[0;34m\u001b[0m\u001b[0m\n\u001b[1;32m     53\u001b[0m     \u001b[0ms_list\u001b[0m \u001b[0;34m=\u001b[0m \u001b[0;34m[\u001b[0m\u001b[0;34m'.'\u001b[0m\u001b[0;34m,\u001b[0m \u001b[0;34m','\u001b[0m\u001b[0;34m,\u001b[0m \u001b[0;34m'?'\u001b[0m\u001b[0;34m,\u001b[0m \u001b[0;34m'!'\u001b[0m\u001b[0;34m,\u001b[0m \u001b[0;34m';'\u001b[0m\u001b[0;34m,\u001b[0m \u001b[0;34m':'\u001b[0m\u001b[0;34m,\u001b[0m \u001b[0;34m'\\'s'\u001b[0m\u001b[0;34m,\u001b[0m \u001b[0;34m'('\u001b[0m\u001b[0;34m,\u001b[0m \u001b[0;34m')'\u001b[0m\u001b[0;34m,\u001b[0m \u001b[0;34m'“'\u001b[0m\u001b[0;34m,\u001b[0m \u001b[0;34m'”'\u001b[0m\u001b[0;34m,\u001b[0m \u001b[0;34m'’'\u001b[0m\u001b[0;34m,\u001b[0m \u001b[0;34m'='\u001b[0m\u001b[0;34m,\u001b[0m \u001b[0;34m'>'\u001b[0m\u001b[0;34m,\u001b[0m \u001b[0;34m'+'\u001b[0m\u001b[0;34m,\u001b[0m \u001b[0;34m'<'\u001b[0m\u001b[0;34m,\u001b[0m \u001b[0;34m'&'\u001b[0m\u001b[0;34m,\u001b[0m \u001b[0;34m'#'\u001b[0m\u001b[0;34m,\u001b[0m \u001b[0;34m'·'\u001b[0m\u001b[0;34m,\u001b[0m \u001b[0;34m'&'\u001b[0m\u001b[0;34m,\u001b[0m \u001b[0;34m'←'\u001b[0m\u001b[0;34m]\u001b[0m\u001b[0;34m\u001b[0m\u001b[0m\n",
      "\u001b[0;31mFileNotFoundError\u001b[0m: [Errno 2] No such file or directory: 'bible.txt'"
     ]
    }
   ],
   "source": [
    "from nltk.tokenize import word_tokenize\n",
    "import matplotlib.pyplot as plt\n",
    "import numpy as np\n",
    "import os\n",
    "import nltk\n",
    "\n",
    "\n",
    "def zipf_law(tokenized_words):\n",
    "    total_word_count = len(tokenized_words)\n",
    "    word_array = np.array(tokenized_words)\n",
    "    word_unique, word_count = np.unique(word_array, return_counts=True)\n",
    "    word_count_dict = dict(zip(word_unique, word_count))\n",
    "\n",
    "    word_rank_pair_list = sorted(word_count_dict.items(), key=lambda x: x[1], reverse=True)\n",
    "    word_rank_list = list(map(lambda x: x[0], word_rank_pair_list))\n",
    "    # col_head = \"Word\".ljust(20) + \" Freq\".ljust(11) + \" r\".ljust(7) + \"Pr\".ljust(20) + \"r*Pr\"\n",
    "    # print(col_head)\n",
    "\n",
    "    freq_list = []\n",
    "    prob_list = []\n",
    "    rank_list = []\n",
    "\n",
    "    rank = 1 # 현재 rank 값.\n",
    "    for i in range(len(word_count_dict)):\n",
    "        word = word_rank_list[i]\n",
    "        freq = word_count_dict[word]\n",
    "        ocur_prob = freq / total_word_count\n",
    "        # freq가 같은 경우 rank도 같아야 하지만 현재 word_rank_list의 index는 1씩 증가하며 모두 다른 값을 가지므로\n",
    "        # 바로 rank = i + 1을 적용할 수 없음\n",
    "        # 만약 이전 rank의 단어가 현재 단어와 동일한 freq를 같는다면, 이전 rank를 그대로 유지한다.\n",
    "        if i > 0 and freq_list[i - 1] == freq:\n",
    "            pass\n",
    "        else:\n",
    "            rank = i + 1\n",
    "\n",
    "        freq_list.append(freq)\n",
    "        prob_list.append(ocur_prob)\n",
    "        rank_list.append(rank)\n",
    "\n",
    "    return freq_list, prob_list, rank_list\n",
    "\n",
    "\n",
    "if __name__ == \"__main__\":\n",
    "    with open(\"bible.txt\", 'r') as f:\n",
    "        text = f.read()\n",
    "    s_list = ['.', ',', '?', '!', ';', ':', '\\'s', '(', ')', '“', '”', '’', '=', '>', '+', '<', '&', '#', '·', '&', '←']\n",
    "    for c in s_list:\n",
    "        text = text.replace(c, '')\n",
    "    # 소문자로 변환\n",
    "    text = text.lower()\n",
    "\n",
    "    # Setup environments.\n",
    "    if not os.path.isdir('output'):\n",
    "        os.mkdir('output')\n",
    "\n",
    "    # Configure pyplot.\n",
    "    plt.xlabel('Log(Rank)')\n",
    "    plt.ylabel('Log(Frequency)')\n",
    "\n",
    "\n",
    "    \"\"\"3-1\"\"\"\n",
    "    # zipf's law plot (Represent X,Y axis name!)\n",
    "    tokenized_words = word_tokenize(text)           # 다른 tokenizer 사용 가능\n",
    "    freq_list, _, rank_list = zipf_law(tokenized_words)\n",
    "    plt.plot(np.log(rank_list), np.log(freq_list), label='Unigram')\n",
    "    plt.savefig('output/unigram.png')\n",
    "\n",
    "\n",
    "    \"\"\"3-2\"\"\"\n",
    "    bigram_list = list(nltk.bigrams(tokenized_words))\n",
    "    freq_list, _, rank_list = zipf_law(bigram_list)\n",
    "    plt.plot(np.log(rank_list), np.log(freq_list), label='Bigram')\n",
    "\n",
    "    trigram_list = list(nltk.trigrams(tokenized_words))\n",
    "    freq_list, _, rank_list = zipf_law(trigram_list)\n",
    "    plt.plot(np.log(rank_list), np.log(freq_list), label='Trigram')\n",
    "\n",
    "    plt.legend()\n",
    "    plt.savefig('output/benchmark.png')\n"
   ]
  },
  {
   "cell_type": "code",
   "execution_count": null,
   "metadata": {},
   "outputs": [],
   "source": []
  }
 ],
 "metadata": {
  "kernelspec": {
   "display_name": "Python 3",
   "language": "python",
   "name": "python3"
  },
  "language_info": {
   "codemirror_mode": {
    "name": "ipython",
    "version": 3
   },
   "file_extension": ".py",
   "mimetype": "text/x-python",
   "name": "python",
   "nbconvert_exporter": "python",
   "pygments_lexer": "ipython3",
   "version": "3.5.3"
  }
 },
 "nbformat": 4,
 "nbformat_minor": 2
}
