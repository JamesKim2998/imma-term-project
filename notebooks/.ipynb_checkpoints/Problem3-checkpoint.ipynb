{
 "cells": [
  {
   "cell_type": "code",
   "execution_count": 4,
   "metadata": {},
   "outputs": [],
   "source": [
    "from nltk.tokenize import word_tokenize\n",
    "import matplotlib.pyplot as plt\n",
    "import numpy as np\n",
    "import os\n",
    "import nltk"
   ]
  },
  {
   "cell_type": "code",
   "execution_count": null,
   "metadata": {},
   "outputs": [],
   "source": []
  },
  {
   "cell_type": "code",
   "execution_count": 2,
   "metadata": {},
   "outputs": [
    {
     "ename": "ImportError",
     "evalue": "No module named 'matplotlib'",
     "output_type": "error",
     "traceback": [
      "\u001b[0;31m---------------------------------------------------------\u001b[0m",
      "\u001b[0;31mImportError\u001b[0m             Traceback (most recent call last)",
      "\u001b[0;32m<ipython-input-2-f2f597e8b781>\u001b[0m in \u001b[0;36m<module>\u001b[0;34m\u001b[0m\n\u001b[1;32m      1\u001b[0m \u001b[0;32mfrom\u001b[0m \u001b[0mnltk\u001b[0m\u001b[0;34m.\u001b[0m\u001b[0mtokenize\u001b[0m \u001b[0;32mimport\u001b[0m \u001b[0mword_tokenize\u001b[0m\u001b[0;34m\u001b[0m\u001b[0m\n\u001b[0;32m----> 2\u001b[0;31m \u001b[0;32mimport\u001b[0m \u001b[0mmatplotlib\u001b[0m\u001b[0;34m.\u001b[0m\u001b[0mpyplot\u001b[0m \u001b[0;32mas\u001b[0m \u001b[0mplt\u001b[0m\u001b[0;34m\u001b[0m\u001b[0m\n\u001b[0m\u001b[1;32m      3\u001b[0m \u001b[0;32mimport\u001b[0m \u001b[0mnumpy\u001b[0m \u001b[0;32mas\u001b[0m \u001b[0mnp\u001b[0m\u001b[0;34m\u001b[0m\u001b[0m\n\u001b[1;32m      4\u001b[0m \u001b[0;32mimport\u001b[0m \u001b[0mos\u001b[0m\u001b[0;34m\u001b[0m\u001b[0m\n\u001b[1;32m      5\u001b[0m \u001b[0;32mimport\u001b[0m \u001b[0mnltk\u001b[0m\u001b[0;34m\u001b[0m\u001b[0m\n",
      "\u001b[0;31mImportError\u001b[0m: No module named 'matplotlib'"
     ]
    }
   ],
   "source": [
    "from nltk.tokenize import word_tokenize\n",
    "import matplotlib.pyplot as plt\n",
    "import numpy as np\n",
    "import os\n",
    "import nltk\n",
    "\n",
    "\n",
    "def zipf_law(tokenized_words):\n",
    "    total_word_count = len(tokenized_words)\n",
    "    word_array = np.array(tokenized_words)\n",
    "    word_unique, word_count = np.unique(word_array, return_counts=True)\n",
    "    word_count_dict = dict(zip(word_unique, word_count))\n",
    "\n",
    "    word_rank_pair_list = sorted(word_count_dict.items(), key=lambda x: x[1], reverse=True)\n",
    "    word_rank_list = list(map(lambda x: x[0], word_rank_pair_list))\n",
    "    # col_head = \"Word\".ljust(20) + \" Freq\".ljust(11) + \" r\".ljust(7) + \"Pr\".ljust(20) + \"r*Pr\"\n",
    "    # print(col_head)\n",
    "\n",
    "    freq_list = []\n",
    "    prob_list = []\n",
    "    rank_list = []\n",
    "\n",
    "    rank = 1 # í˜„ìž¬ rank ê°’.\n",
    "    for i in range(len(word_count_dict)):\n",
    "        word = word_rank_list[i]\n",
    "        freq = word_count_dict[word]\n",
    "        ocur_prob = freq / total_word_count\n",
    "        # freqê°€ ê°™ì€ ê²½ìš° rankë„ ê°™ì•„ì•¼ í•˜ì§€ë§Œ í˜„ìž¬ word_rank_listì˜ indexëŠ” 1ì”© ì¦ê°€í•˜ë©° ëª¨ë‘ ë‹¤ë¥¸ ê°’ì„ ê°€ì§€ë¯€ë¡œ\n",
    "        # ë°”ë¡œ rank = i + 1ì„ ì ìš©í•  ìˆ˜ ì—†ìŒ\n",
    "        # ë§Œì•½ ì´ì „ rankì˜ ë‹¨ì–´ê°€ í˜„ìž¬ ë‹¨ì–´ì™€ ë™ì¼í•œ freqë¥¼ ê°™ëŠ”ë‹¤ë©´, ì´ì „ rankë¥¼ ê·¸ëŒ€ë¡œ ìœ ì§€í•œë‹¤.\n",
    "        if i > 0 and freq_list[i - 1] == freq:\n",
    "            pass\n",
    "        else:\n",
    "            rank = i + 1\n",
    "\n",
    "        # if using Unigram\n",
    "        # if use_unigram:\n",
    "        #     print(word.ljust(20), str(freq).ljust(10), str(rank).ljust(5), '%.17f' % ocur_prob, '%.6f' % (rank * ocur_prob))\n",
    "        # if using Bi, Tri-gram\n",
    "        # else:\n",
    "        #     print(word, str(freq), str(rank), '%.17f' % ocur_prob, '%.6f' % (rank * ocur_prob))\n",
    "\n",
    "        freq_list.append(freq)\n",
    "        prob_list.append(ocur_prob)\n",
    "        rank_list.append(rank)\n",
    "\n",
    "    return freq_list, prob_list, rank_list\n",
    "\n",
    "\n",
    "if __name__ == \"__main__\":\n",
    "    with open(\"bible.txt\", 'r') as f:\n",
    "        text = f.read()\n",
    "    s_list = ['.', ',', '?', '!', ';', ':', '\\'s', '(', ')', 'â€œ', 'â€', 'â€™', '=', '>', '+', '<', '&', '#', 'Â·', '&', 'â†']\n",
    "    for c in s_list:\n",
    "        text = text.replace(c, '')\n",
    "    # ì†Œë¬¸ìžë¡œ ë³€í™˜\n",
    "    text = text.lower()\n",
    "\n",
    "    # Setup environments.\n",
    "    if not os.path.isdir('output'):\n",
    "        os.mkdir('output')\n",
    "\n",
    "    # Configure pyplot.\n",
    "    plt.xlabel('Log(Rank)')\n",
    "    plt.ylabel('Log(Frequency)')\n",
    "\n",
    "\n",
    "    \"\"\"3-1\"\"\"\n",
    "    # zipf's law plot (Represent X,Y axis name!)\n",
    "    tokenized_words = word_tokenize(text)           # ë‹¤ë¥¸ tokenizer ì‚¬ìš© ê°€ëŠ¥\n",
    "    freq_list, _, rank_list = zipf_law(tokenized_words)\n",
    "    plt.plot(np.log(rank_list), np.log(freq_list), label='Unigram')\n",
    "    plt.savefig('output/unigram.png')\n",
    "\n",
    "\n",
    "    \"\"\"3-2\"\"\"\n",
    "    bigram_list = list(nltk.bigrams(tokenized_words))\n",
    "    freq_list, _, rank_list = zipf_law(bigram_list)\n",
    "    plt.plot(np.log(rank_list), np.log(freq_list), label='Bigram')\n",
    "\n",
    "    trigram_list = list(nltk.trigrams(tokenized_words))\n",
    "    freq_list, _, rank_list = zipf_law(trigram_list)\n",
    "    plt.plot(np.log(rank_list), np.log(freq_list), label='Trigram')\n",
    "\n",
    "    plt.legend()\n",
    "    plt.savefig('output/benchmark.png')"
   ]
  },
  {
   "cell_type": "code",
   "execution_count": null,
   "metadata": {},
   "outputs": [],
   "source": []
  }
 ],
 "metadata": {
  "kernelspec": {
   "display_name": "Python 3",
   "language": "python",
   "name": "python3"
  },
  "language_info": {
   "codemirror_mode": {
    "name": "ipython",
    "version": 3
   },
   "file_extension": ".py",
   "mimetype": "text/x-python",
   "name": "python",
   "nbconvert_exporter": "python",
   "pygments_lexer": "ipython3",
   "version": "3.5.3"
  }
 },
 "nbformat": 4,
 "nbformat_minor": 2
}
